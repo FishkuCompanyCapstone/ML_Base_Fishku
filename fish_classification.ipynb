{
  "nbformat": 4,
  "nbformat_minor": 0,
  "metadata": {
    "colab": {
      "provenance": [],
      "gpuType": "T4"
    },
    "kernelspec": {
      "name": "python3",
      "display_name": "Python 3"
    },
    "language_info": {
      "name": "python"
    },
    "accelerator": "GPU"
  },
  "cells": [
    {
      "cell_type": "code",
      "execution_count": 1,
      "metadata": {
        "colab": {
          "base_uri": "https://localhost:8080/"
        },
        "id": "K-zhIAiYqL97",
        "outputId": "1711c321-49f4-485b-f489-ac37f97f1fea"
      },
      "outputs": [
        {
          "output_type": "stream",
          "name": "stdout",
          "text": [
            "Mounted at /content/drive\n"
          ]
        }
      ],
      "source": [
        "from google.colab import drive\n",
        "drive.mount('/content/drive')"
      ]
    },
    {
      "cell_type": "markdown",
      "source": [
        "Dataset source:\n",
        "\n",
        "> Prasetyo, Eko; Suciati, Nanik; Fatichah, Chastine (2021), “Fish-gres Dataset for Fish Species Classification”, Mendeley Data, V2, doi: 10.17632/76cr3wfhff.2\n",
        "\n"
      ],
      "metadata": {
        "id": "a29BrOl5QRcZ"
      }
    },
    {
      "cell_type": "code",
      "source": [
        "import os\n",
        "import random\n",
        "import shutil\n",
        "import tensorflow as tf\n",
        "from tensorflow.keras.preprocessing.image import ImageDataGenerator\n",
        "from shutil import copyfile\n",
        "import matplotlib.pyplot as plt"
      ],
      "metadata": {
        "id": "ysvAO0N1Ux8h"
      },
      "execution_count": 2,
      "outputs": []
    },
    {
      "cell_type": "code",
      "source": [
        "source_path = '/content/drive/MyDrive/Capstone_Fishku/fish_classifications'\n",
        "\n",
        "source_path_bandeng = os.path.join(source_path, 'Ikan_Bandeng')\n",
        "source_path_kembung = os.path.join(source_path, 'Ikan_Kembung')\n",
        "source_path_kuniran = os.path.join(source_path, 'Ikan_Kuniran')\n",
        "source_path_mujair = os.path.join(source_path, 'Ikan_Mujair')\n",
        "source_path_nila = os.path.join(source_path, 'Ikan_Nila')\n",
        "\n",
        "print(f\"There are {len(os.listdir(source_path_bandeng))} images of bandeng.\")\n",
        "print(f\"There are {len(os.listdir(source_path_kembung))} images of kembung.\")\n",
        "print(f\"There are {len(os.listdir(source_path_kuniran))} images of kuniran.\")\n",
        "print(f\"There are {len(os.listdir(source_path_mujair))} images of mujair.\")\n",
        "print(f\"There are {len(os.listdir(source_path_nila))} images of nila.\")"
      ],
      "metadata": {
        "colab": {
          "base_uri": "https://localhost:8080/"
        },
        "id": "QIUacN_lU_z8",
        "outputId": "eca6ca75-2735-4d83-f9e1-3d7cf8b714ba"
      },
      "execution_count": 3,
      "outputs": [
        {
          "output_type": "stream",
          "name": "stdout",
          "text": [
            "There are 500 images of bandeng.\n",
            "There are 544 images of kembung.\n",
            "There are 577 images of kuniran.\n",
            "There are 331 images of mujair.\n",
            "There are 564 images of nila.\n"
          ]
        }
      ]
    },
    {
      "cell_type": "code",
      "source": [
        "# Define root directory\n",
        "root_dir = '/tmp/fish_classifications'\n",
        "\n",
        "# Empty directory to prevent FileExistsError is the function is run several times\n",
        "if os.path.exists(root_dir):\n",
        "  shutil.rmtree(root_dir)\n",
        "\n",
        "# GRADED FUNCTION: create_train_val_dirs\n",
        "def create_train_val_dirs(root_path):\n",
        "  \"\"\"\n",
        "  Creates directories for the train and test sets\n",
        "\n",
        "  Args:\n",
        "    root_path (string) - the base directory path to create subdirectories from\n",
        "\n",
        "  Returns:\n",
        "    None\n",
        "  \"\"\"\n",
        "\n",
        "  ### START CODE HERE\n",
        "\n",
        "  # HINT:\n",
        "  # Use os.makedirs to create your directories with intermediate subdirectories\n",
        "  # Don't hardcode the paths. Use os.path.join to append the new directories to the root_path parameter\n",
        "  train_path = os.path.join(root_path, 'training')\n",
        "  os.makedirs(train_path)\n",
        "  os.makedirs(os.path.join(train_path, 'bandeng'))\n",
        "  os.makedirs(os.path.join(train_path, 'kembung'))\n",
        "  os.makedirs(os.path.join(train_path, 'kuniran'))\n",
        "  os.makedirs(os.path.join(train_path, 'mujair'))\n",
        "  os.makedirs(os.path.join(train_path, 'nila'))\n",
        "\n",
        "  val_path = os.path.join(root_path, 'validation')\n",
        "  os.makedirs(val_path)\n",
        "  os.makedirs(os.path.join(val_path, 'bandeng'))\n",
        "  os.makedirs(os.path.join(val_path, 'kembung'))\n",
        "  os.makedirs(os.path.join(val_path, 'kuniran'))\n",
        "  os.makedirs(os.path.join(val_path, 'mujair'))\n",
        "  os.makedirs(os.path.join(val_path, 'nila'))\n",
        "\n",
        "  # test_path = os.path.join(root_path, 'testing')\n",
        "  # os.makedirs(test_path)\n",
        "  # os.makedirs(os.path.join(test_path, 'bandeng'))\n",
        "  # os.makedirs(os.path.join(test_path, 'kembung'))\n",
        "  # os.makedirs(os.path.join(test_path, 'kuniran'))\n",
        "  # os.makedirs(os.path.join(test_path, 'mujair'))\n",
        "  # os.makedirs(os.path.join(test_path, 'nila'))\n",
        "  ### END CODE HERE\n",
        "\n",
        "\n",
        "try:\n",
        "  create_train_val_dirs(root_path=root_dir)\n",
        "except FileExistsError:\n",
        "  print(\"You should not be seeing this since the upper directory is removed beforehand\")"
      ],
      "metadata": {
        "id": "QFAlUZrAWqvt"
      },
      "execution_count": 4,
      "outputs": []
    },
    {
      "cell_type": "code",
      "source": [
        "# Test your create_train_val_dirs function\n",
        "\n",
        "for rootdir, dirs, files in os.walk(root_dir):\n",
        "    for subdir in dirs:\n",
        "        print(os.path.join(rootdir, subdir))"
      ],
      "metadata": {
        "colab": {
          "base_uri": "https://localhost:8080/"
        },
        "id": "o-1nJ7vkYN7q",
        "outputId": "443e6684-8b22-48c5-bb65-2990af4e9c34"
      },
      "execution_count": 5,
      "outputs": [
        {
          "output_type": "stream",
          "name": "stdout",
          "text": [
            "/tmp/fish_classifications/validation\n",
            "/tmp/fish_classifications/training\n",
            "/tmp/fish_classifications/validation/kembung\n",
            "/tmp/fish_classifications/validation/bandeng\n",
            "/tmp/fish_classifications/validation/kuniran\n",
            "/tmp/fish_classifications/validation/mujair\n",
            "/tmp/fish_classifications/validation/nila\n",
            "/tmp/fish_classifications/training/kembung\n",
            "/tmp/fish_classifications/training/bandeng\n",
            "/tmp/fish_classifications/training/kuniran\n",
            "/tmp/fish_classifications/training/mujair\n",
            "/tmp/fish_classifications/training/nila\n"
          ]
        }
      ]
    },
    {
      "cell_type": "code",
      "source": [
        "def split_data(SOURCE_DIR, TRAINING_DIR, VALIDATION_DIR, SPLIT_SIZE):\n",
        "  \"\"\"\n",
        "  Splits the data into train and test sets\n",
        "\n",
        "  Args:\n",
        "    SOURCE_DIR (string): directory path containing the images\n",
        "    TRAINING_DIR (string): directory path to be used for training\n",
        "    VALIDATION_DIR (string): directory path to be used for validation\n",
        "    SPLIT_SIZE (float): proportion of the dataset to be used for training\n",
        "\n",
        "  Returns:\n",
        "    None\n",
        "  \"\"\"\n",
        "  all_files = []\n",
        "\n",
        "  # check zero file\n",
        "  for file_name in os.listdir(SOURCE_DIR):\n",
        "    file_source = os.path.join(SOURCE_DIR, file_name)\n",
        "    if os.path.getsize(file_source):\n",
        "      all_files.append(file_name)\n",
        "    else:\n",
        "      print(f'{file_name} is zero length, so ignoring.')\n",
        "\n",
        "  # split list\n",
        "  randomize_files = random.sample(all_files, len(all_files))\n",
        "  total_training = int(len(all_files) * SPLIT_SIZE)\n",
        "  train_list = randomize_files[:total_training]\n",
        "  val_list = randomize_files[total_training:]\n",
        "\n",
        "  for file_ in train_list:\n",
        "    copyfile(file_source, os.path.join(TRAINING_DIR, file_))\n",
        "\n",
        "  for file_ in val_list:\n",
        "    copyfile(file_source, os.path.join(VALIDATION_DIR, file_))"
      ],
      "metadata": {
        "id": "To2m-3f8YucP"
      },
      "execution_count": 6,
      "outputs": []
    },
    {
      "cell_type": "code",
      "source": [
        "# Test your split_data function\n",
        "\n",
        "# Define paths\n",
        "BANDENG_SOURCE_DIR = source_path_bandeng\n",
        "KEMBUNG_SOURCE_DIR = source_path_kembung\n",
        "KUNIRAN_SOURCE_DIR = source_path_kuniran\n",
        "MUJAIR_SOURCE_DIR = source_path_mujair\n",
        "NILA_SOURCE_DIR = source_path_nila\n",
        "\n",
        "TRAINING_DIR = '/tmp/fish_classifications/training/'\n",
        "VALIDATION_DIR = \"/tmp/fish_classifications/validation/\"\n",
        "\n",
        "TRAINING_BANDENG_DIR = os.path.join(TRAINING_DIR, \"bandeng/\")\n",
        "VALIDATION_BANDENG_DIR = os.path.join(VALIDATION_DIR, \"bandeng/\")\n",
        "\n",
        "TRAINING_KEMBUNG_DIR = os.path.join(TRAINING_DIR, \"kembung/\")\n",
        "VALIDATION_KEMBUNG_DIR = os.path.join(VALIDATION_DIR, \"kembung/\")\n",
        "\n",
        "TRAINING_KUNIRAN_DIR = os.path.join(TRAINING_DIR, \"kuniran/\")\n",
        "VALIDATION_KUNIRAN_DIR = os.path.join(VALIDATION_DIR, \"kuniran/\")\n",
        "\n",
        "TRAINING_MUJAIR_DIR = os.path.join(TRAINING_DIR, \"mujair/\")\n",
        "VALIDATION_MUJAIR_DIR = os.path.join(VALIDATION_DIR, \"mujair/\")\n",
        "\n",
        "TRAINING_NILA_DIR = os.path.join(TRAINING_DIR, \"nila/\")\n",
        "VALIDATION_NILA_DIR = os.path.join(VALIDATION_DIR, \"nila/\")\n",
        "\n",
        "# Empty directories in case you run this cell multiple times\n",
        "if len(os.listdir(TRAINING_BANDENG_DIR)) > 0:\n",
        "  for file in os.scandir(TRAINING_BANDENG_DIR):\n",
        "    os.remove(file.path)\n",
        "if len(os.listdir(TRAINING_KEMBUNG_DIR)) > 0:\n",
        "  for file in os.scandir(TRAINING_KEMBUNG_DIR):\n",
        "    os.remove(file.path)\n",
        "if len(os.listdir(TRAINING_KUNIRAN_DIR)) > 0:\n",
        "  for file in os.scandir(TRAINING_KUNIRAN_DIR):\n",
        "    os.remove(file.path)\n",
        "if len(os.listdir(TRAINING_MUJAIR_DIR)) > 0:\n",
        "  for file in os.scandir(TRAINING_MUJAIR_DIR):\n",
        "    os.remove(file.path)\n",
        "if len(os.listdir(TRAINING_NILA_DIR)) > 0:\n",
        "  for file in os.scandir(TRAINING_NILA_DIR):\n",
        "    os.remove(file.path)\n",
        "\n",
        "if len(os.listdir(VALIDATION_BANDENG_DIR)) > 0:\n",
        "  for file in os.scandir(VALIDATION_BANDENG_DIR):\n",
        "    os.remove(file.path)\n",
        "if len(os.listdir(VALIDATION_KEMBUNG_DIR)) > 0:\n",
        "  for file in os.scandir(VALIDATION_KEMBUNG_DIR):\n",
        "    os.remove(file.path)\n",
        "if len(os.listdir(VALIDATION_KUNIRAN_DIR)) > 0:\n",
        "  for file in os.scandir(VALIDATION_KUNIRAN_DIR):\n",
        "    os.remove(file.path)\n",
        "if len(os.listdir(VALIDATION_MUJAIR_DIR)) > 0:\n",
        "  for file in os.scandir(VALIDATION_MUJAIR_DIR):\n",
        "    os.remove(file.path)\n",
        "if len(os.listdir(VALIDATION_NILA_DIR)) > 0:\n",
        "  for file in os.scandir(VALIDATION_NILA_DIR):\n",
        "    os.remove(file.path)\n",
        "\n",
        "# Define proportion of images used for training\n",
        "split_size = .7\n",
        "\n",
        "# Run the function\n",
        "# NOTE: Messages about zero length images should be printed out\n",
        "split_data(BANDENG_SOURCE_DIR, TRAINING_BANDENG_DIR, VALIDATION_BANDENG_DIR, split_size)\n",
        "split_data(KEMBUNG_SOURCE_DIR, TRAINING_KEMBUNG_DIR, VALIDATION_KEMBUNG_DIR, split_size)\n",
        "split_data(KUNIRAN_SOURCE_DIR, TRAINING_KUNIRAN_DIR, VALIDATION_KUNIRAN_DIR, split_size)\n",
        "split_data(MUJAIR_SOURCE_DIR, TRAINING_MUJAIR_DIR, VALIDATION_MUJAIR_DIR, split_size)\n",
        "split_data(NILA_SOURCE_DIR, TRAINING_NILA_DIR, VALIDATION_NILA_DIR, split_size)\n",
        "\n",
        "# Your function should perform copies rather than moving images so original directories should contain unchanged images\n",
        "print(f\"\\n\\nOriginal bandeng directory has {len(os.listdir(BANDENG_SOURCE_DIR))} images\")\n",
        "print(f\"Original kembung directory has {len(os.listdir(KEMBUNG_SOURCE_DIR))} images\")\n",
        "print(f\"Original kuniran directory has {len(os.listdir(KUNIRAN_SOURCE_DIR))} images\")\n",
        "print(f\"Original mujair directory has {len(os.listdir(MUJAIR_SOURCE_DIR))} images\")\n",
        "print(f\"Original nila directory has {len(os.listdir(NILA_SOURCE_DIR))} images\\n\")\n",
        "\n",
        "# Training and validation splits. Check that the number of images matches the expected output.\n",
        "print(f\"There are {len(os.listdir(TRAINING_BANDENG_DIR))} images of bandeng for training\")\n",
        "print(f\"There are {len(os.listdir(TRAINING_KEMBUNG_DIR))} images of kembung for training\")\n",
        "print(f\"There are {len(os.listdir(TRAINING_KUNIRAN_DIR))} images of kuniran for training\")\n",
        "print(f\"There are {len(os.listdir(TRAINING_MUJAIR_DIR))} images of mujair for training\")\n",
        "print(f\"There are {len(os.listdir(TRAINING_NILA_DIR))} images of nila for training\\n\")\n",
        "\n",
        "print(f\"There are {len(os.listdir(VALIDATION_BANDENG_DIR))} images of bandeng for validation\")\n",
        "print(f\"There are {len(os.listdir(VALIDATION_KEMBUNG_DIR))} images of kembung for validation\")\n",
        "print(f\"There are {len(os.listdir(VALIDATION_KUNIRAN_DIR))} images of kuniran for validation\")\n",
        "print(f\"There are {len(os.listdir(VALIDATION_MUJAIR_DIR))} images of mujair for validation\")\n",
        "print(f\"There are {len(os.listdir(VALIDATION_NILA_DIR))} images of nila for validation\\n\")"
      ],
      "metadata": {
        "colab": {
          "base_uri": "https://localhost:8080/"
        },
        "id": "UVWl830l5V7j",
        "outputId": "4d99d771-5d4b-4a3e-ee3c-d385d4c3749e"
      },
      "execution_count": 8,
      "outputs": [
        {
          "output_type": "stream",
          "name": "stdout",
          "text": [
            "\n",
            "\n",
            "Original bandeng directory has 500 images\n",
            "Original kembung directory has 544 images\n",
            "Original kuniran directory has 577 images\n",
            "Original mujair directory has 331 images\n",
            "Original nila directory has 564 images\n",
            "\n",
            "There are 350 images of bandeng for training\n",
            "There are 380 images of kembung for training\n",
            "There are 403 images of kuniran for training\n",
            "There are 231 images of mujair for training\n",
            "There are 394 images of nila for training\n",
            "\n",
            "There are 150 images of bandeng for validation\n",
            "There are 164 images of kembung for validation\n",
            "There are 174 images of kuniran for validation\n",
            "There are 100 images of mujair for validation\n",
            "There are 170 images of nila for validation\n",
            "\n"
          ]
        }
      ]
    },
    {
      "cell_type": "code",
      "source": [
        "def train_val_generators(TRAINING_DIR, VALIDATION_DIR):\n",
        "  \"\"\"\n",
        "  Creates the training and validation data generators\n",
        "\n",
        "  Args:\n",
        "    TRAINING_DIR (string): directory path containing the training images\n",
        "    VALIDATION_DIR (string): directory path containing the testing/validation images\n",
        "\n",
        "  Returns:\n",
        "    train_generator, validation_generator - tuple containing the generators\n",
        "  \"\"\"\n",
        "  # Instantiate the ImageDataGenerator class (don't forget to set the arguments to augment the images)\n",
        "  train_datagen = ImageDataGenerator(rescale=1./255,\n",
        "                                     rotation_range=40,\n",
        "                                     width_shift_range=0.2,\n",
        "                                     height_shift_range=0.2,\n",
        "                                     shear_range=0.2,\n",
        "                                     zoom_range=0.2,\n",
        "                                     horizontal_flip=True,\n",
        "                                     fill_mode='nearest')\n",
        "\n",
        "  # Pass in the appropriate arguments to the flow_from_directory method\n",
        "  train_generator = train_datagen.flow_from_directory(directory=TRAINING_DIR,\n",
        "                                                      batch_size=128,\n",
        "                                                      class_mode='categorical',\n",
        "                                                      target_size=(150, 150))\n",
        "\n",
        "  # Instantiate the ImageDataGenerator class (don't forget to set the rescale argument)\n",
        "  validation_datagen = ImageDataGenerator(rescale=1./255)\n",
        "\n",
        "  # Pass in the appropriate arguments to the flow_from_directory method\n",
        "  validation_generator = validation_datagen.flow_from_directory(directory=VALIDATION_DIR,\n",
        "                                                                batch_size=32,\n",
        "                                                                class_mode='categorical',\n",
        "                                                                target_size=(150, 150))\n",
        "\n",
        "  return train_generator, validation_generator"
      ],
      "metadata": {
        "id": "pr0JIP__90QS"
      },
      "execution_count": 14,
      "outputs": []
    },
    {
      "cell_type": "code",
      "source": [
        "# Test your generators\n",
        "train_generator, validation_generator = train_val_generators(TRAINING_DIR, VALIDATION_DIR)"
      ],
      "metadata": {
        "colab": {
          "base_uri": "https://localhost:8080/"
        },
        "id": "c9ofy2OJ_qqf",
        "outputId": "da47dcc0-eee0-46f2-a9d0-da384f1e38e3"
      },
      "execution_count": 15,
      "outputs": [
        {
          "output_type": "stream",
          "name": "stdout",
          "text": [
            "Found 1758 images belonging to 5 classes.\n",
            "Found 758 images belonging to 5 classes.\n"
          ]
        }
      ]
    },
    {
      "cell_type": "code",
      "source": [
        "def create_model():\n",
        "\n",
        "  model = tf.keras.models.Sequential([\n",
        "    # This is the first convolution\n",
        "    tf.keras.layers.Conv2D(64, (3,3), activation='relu', input_shape=(150, 150, 3)),\n",
        "    tf.keras.layers.MaxPooling2D(2, 2),\n",
        "    # The second convolution\n",
        "    tf.keras.layers.Conv2D(64, (3,3), activation='relu'),\n",
        "    tf.keras.layers.MaxPooling2D(2,2),\n",
        "    # The third convolution\n",
        "    tf.keras.layers.Conv2D(128, (3,3), activation='relu'),\n",
        "    tf.keras.layers.MaxPooling2D(2,2),\n",
        "    # The fourth convolution\n",
        "    tf.keras.layers.Conv2D(128, (3,3), activation='relu'),\n",
        "    tf.keras.layers.MaxPooling2D(2,2),\n",
        "    # Flatten the results to feed into a DNN\n",
        "    tf.keras.layers.Flatten(),\n",
        "    tf.keras.layers.Dropout(0.5),\n",
        "    # 512 neuron hidden layer\n",
        "    tf.keras.layers.Dense(512, activation='relu'),\n",
        "    tf.keras.layers.Dense(5, activation='softmax')\n",
        "  ])\n",
        "\n",
        "\n",
        "  model.compile(optimizer=tf.keras.optimizers.Adam(learning_rate=0.001),\n",
        "                loss='categorical_crossentropy',\n",
        "                metrics=['accuracy'])\n",
        "\n",
        "\n",
        "  return model"
      ],
      "metadata": {
        "id": "S2X0LeJWAMWH"
      },
      "execution_count": 34,
      "outputs": []
    },
    {
      "cell_type": "code",
      "source": [
        "# Get the untrained model\n",
        "model = create_model()\n",
        "\n",
        "model.summary()"
      ],
      "metadata": {
        "colab": {
          "base_uri": "https://localhost:8080/"
        },
        "id": "MsvRat9uA4gn",
        "outputId": "146029f4-089d-4403-e9b3-a5d0caedf76a"
      },
      "execution_count": 35,
      "outputs": [
        {
          "output_type": "stream",
          "name": "stdout",
          "text": [
            "Model: \"sequential_7\"\n",
            "_________________________________________________________________\n",
            " Layer (type)                Output Shape              Param #   \n",
            "=================================================================\n",
            " conv2d_28 (Conv2D)          (None, 148, 148, 64)      1792      \n",
            "                                                                 \n",
            " max_pooling2d_28 (MaxPooli  (None, 74, 74, 64)        0         \n",
            " ng2D)                                                           \n",
            "                                                                 \n",
            " conv2d_29 (Conv2D)          (None, 72, 72, 64)        36928     \n",
            "                                                                 \n",
            " max_pooling2d_29 (MaxPooli  (None, 36, 36, 64)        0         \n",
            " ng2D)                                                           \n",
            "                                                                 \n",
            " conv2d_30 (Conv2D)          (None, 34, 34, 128)       73856     \n",
            "                                                                 \n",
            " max_pooling2d_30 (MaxPooli  (None, 17, 17, 128)       0         \n",
            " ng2D)                                                           \n",
            "                                                                 \n",
            " conv2d_31 (Conv2D)          (None, 15, 15, 128)       147584    \n",
            "                                                                 \n",
            " max_pooling2d_31 (MaxPooli  (None, 7, 7, 128)         0         \n",
            " ng2D)                                                           \n",
            "                                                                 \n",
            " flatten_7 (Flatten)         (None, 6272)              0         \n",
            "                                                                 \n",
            " dropout_7 (Dropout)         (None, 6272)              0         \n",
            "                                                                 \n",
            " dense_14 (Dense)            (None, 512)               3211776   \n",
            "                                                                 \n",
            " dense_15 (Dense)            (None, 5)                 2565      \n",
            "                                                                 \n",
            "=================================================================\n",
            "Total params: 3474501 (13.25 MB)\n",
            "Trainable params: 3474501 (13.25 MB)\n",
            "Non-trainable params: 0 (0.00 Byte)\n",
            "_________________________________________________________________\n"
          ]
        }
      ]
    },
    {
      "cell_type": "code",
      "source": [
        "# Train the model\n",
        "# Note that this may take some time.\n",
        "history = model.fit(train_generator,\n",
        "                    epochs=15,\n",
        "                    # verbose=1,\n",
        "                    validation_data=validation_generator)"
      ],
      "metadata": {
        "colab": {
          "base_uri": "https://localhost:8080/"
        },
        "id": "X2l3F3ysAxtn",
        "outputId": "7afda96c-4902-41c9-e501-f2d09dfa7d20"
      },
      "execution_count": 36,
      "outputs": [
        {
          "output_type": "stream",
          "name": "stdout",
          "text": [
            "Epoch 1/15\n",
            "14/14 [==============================] - 18s 1s/step - loss: 1.5479 - accuracy: 0.3288 - val_loss: 1.0093 - val_accuracy: 0.6517\n",
            "Epoch 2/15\n",
            "14/14 [==============================] - 16s 1s/step - loss: 1.2352 - accuracy: 0.5711 - val_loss: 0.5346 - val_accuracy: 1.0000\n",
            "Epoch 3/15\n",
            "14/14 [==============================] - 17s 1s/step - loss: 0.5212 - accuracy: 0.8282 - val_loss: 0.0059 - val_accuracy: 1.0000\n",
            "Epoch 4/15\n",
            "14/14 [==============================] - 17s 1s/step - loss: 0.2676 - accuracy: 0.9005 - val_loss: 0.0040 - val_accuracy: 1.0000\n",
            "Epoch 5/15\n",
            "14/14 [==============================] - 15s 1s/step - loss: 0.1799 - accuracy: 0.9352 - val_loss: 0.0464 - val_accuracy: 1.0000\n",
            "Epoch 6/15\n",
            "14/14 [==============================] - 14s 1s/step - loss: 0.0574 - accuracy: 0.9835 - val_loss: 0.0097 - val_accuracy: 1.0000\n",
            "Epoch 7/15\n",
            "14/14 [==============================] - 14s 949ms/step - loss: 0.0259 - accuracy: 0.9926 - val_loss: 0.0100 - val_accuracy: 1.0000\n",
            "Epoch 8/15\n",
            "14/14 [==============================] - 16s 1s/step - loss: 0.0310 - accuracy: 0.9903 - val_loss: 1.0535e-04 - val_accuracy: 1.0000\n",
            "Epoch 9/15\n",
            "14/14 [==============================] - 15s 1s/step - loss: 0.0147 - accuracy: 0.9966 - val_loss: 0.0034 - val_accuracy: 1.0000\n",
            "Epoch 10/15\n",
            "14/14 [==============================] - 14s 1s/step - loss: 0.0110 - accuracy: 0.9977 - val_loss: 0.0059 - val_accuracy: 1.0000\n",
            "Epoch 11/15\n",
            "14/14 [==============================] - 15s 1s/step - loss: 0.0074 - accuracy: 0.9989 - val_loss: 1.7351e-04 - val_accuracy: 1.0000\n",
            "Epoch 12/15\n",
            "14/14 [==============================] - 15s 1s/step - loss: 0.0055 - accuracy: 0.9994 - val_loss: 6.9533e-04 - val_accuracy: 1.0000\n",
            "Epoch 13/15\n",
            "14/14 [==============================] - 16s 1s/step - loss: 0.0049 - accuracy: 0.9989 - val_loss: 0.0452 - val_accuracy: 1.0000\n",
            "Epoch 14/15\n",
            "14/14 [==============================] - 14s 938ms/step - loss: 0.0025 - accuracy: 1.0000 - val_loss: 0.0097 - val_accuracy: 1.0000\n",
            "Epoch 15/15\n",
            "14/14 [==============================] - 15s 1s/step - loss: 0.0054 - accuracy: 0.9983 - val_loss: 0.0242 - val_accuracy: 1.0000\n"
          ]
        }
      ]
    },
    {
      "cell_type": "code",
      "source": [
        "# Plot the results\n",
        "acc = history.history['accuracy']\n",
        "val_acc = history.history['val_accuracy']\n",
        "loss = history.history['loss']\n",
        "val_loss = history.history['val_loss']\n",
        "\n",
        "epochs = range(len(acc))\n",
        "\n",
        "plt.plot(epochs, acc, 'r', label='Training accuracy')\n",
        "plt.plot(epochs, val_acc, 'b', label='Validation accuracy')\n",
        "plt.title('Training and validation accuracy')\n",
        "plt.legend(loc=0)\n",
        "plt.figure()\n",
        "\n",
        "plt.plot(epochs, loss, 'r', label='Training Loss')\n",
        "plt.plot(epochs, val_loss, 'b', label='Validation Loss')\n",
        "plt.title('Training and validation loss')\n",
        "plt.legend()\n",
        "\n",
        "plt.show()"
      ],
      "metadata": {
        "colab": {
          "base_uri": "https://localhost:8080/",
          "height": 887
        },
        "id": "8ISRViEWCHsI",
        "outputId": "3e159102-65dd-4e6a-efcc-09c77deed59c"
      },
      "execution_count": 37,
      "outputs": [
        {
          "output_type": "display_data",
          "data": {
            "text/plain": [
              "<Figure size 640x480 with 1 Axes>"
            ],
            "image/png": "[encoded data removed]"
          },
          "metadata": {}
        },
        {
          "output_type": "display_data",
          "data": {
            "text/plain": [
              "<Figure size 640x480 with 1 Axes>"
            ],
            "image/png": "[encoded data removed]"
          },
          "metadata": {}
        }
      ]
    },
    {
      "cell_type": "code",
      "source": [
        "model_dir = os.path.join(root_dir, 'fish_classification.h5')\n",
        "\n",
        "model.save(model_dir)"
      ],
      "metadata": {
        "colab": {
          "base_uri": "https://localhost:8080/"
        },
        "id": "arRw_Gu7Ge6L",
        "outputId": "6dc81d20-6384-46a7-e9a0-047cdedf1f61"
      },
      "execution_count": 38,
      "outputs": [
        {
          "output_type": "stream",
          "name": "stderr",
          "text": [
            "/usr/local/lib/python3.10/dist-packages/keras/src/engine/training.py:3079: UserWarning: You are saving your model as an HDF5 file via `model.save()`. This file format is considered legacy. We recommend using instead the native Keras format, e.g. `model.save('my_model.keras')`.\n",
            "  saving_api.save_model(\n"
          ]
        }
      ]
    },
    {
      "cell_type": "code",
      "source": [
        "import numpy as np\n",
        "from google.colab import files\n",
        "from tensorflow.keras.utils import load_img, img_to_array\n",
        "\n",
        "uploaded = files.upload()\n",
        "\n",
        "for fn in uploaded.keys():\n",
        "\n",
        "  # predicting images\n",
        "  path = fn\n",
        "  img = load_img(path, target_size=(150, 150))\n",
        "  x = img_to_array(img)\n",
        "  x = np.expand_dims(x, axis=0)\n",
        "\n",
        "  images = np.vstack([x])\n",
        "  classes = model.predict(images, batch_size=10)\n",
        "  print(fn)\n",
        "  print(classes)"
      ],
      "metadata": {
        "colab": {
          "base_uri": "https://localhost:8080/",
          "height": 125
        },
        "id": "wb7bcBTuLiZM",
        "outputId": "f43eabf4-5bd7-497f-f3fc-8739a87afb7a"
      },
      "execution_count": 46,
      "outputs": [
        {
          "output_type": "display_data",
          "data": {
            "text/plain": [
              "<IPython.core.display.HTML object>"
            ],
            "text/html": [
              "\n",
              "     <input type=\"file\" id=\"files-eb0b7859-9f0b-4db4-8ed3-34bdcdc22766\" name=\"files[]\" multiple disabled\n",
              "        style=\"border:none\" />\n",
              "     <output id=\"result-eb0b7859-9f0b-4db4-8ed3-34bdcdc22766\">\n",
              "      Upload widget is only available when the cell has been executed in the\n",
              "      current browser session. Please rerun this cell to enable.\n",
              "      </output>\n",
              "      <script>// Copyright 2017 Google LLC\n",
              "//\n",
              "// Licensed under the Apache License, Version 2.0 (the \"License\");\n",
              "// you may not use this file except in compliance with the License.\n",
              "// You may obtain a copy of the License at\n",
              "//\n",
              "//      http://www.apache.org/licenses/LICENSE-2.0\n",
              "//\n",
              "// Unless required by applicable law or agreed to in writing, software\n",
              "// distributed under the License is distributed on an \"AS IS\" BASIS,\n",
              "// WITHOUT WARRANTIES OR CONDITIONS OF ANY KIND, either express or implied.\n",
              "// See the License for the specific language governing permissions and\n",
              "// limitations under the License.\n",
              "\n",
              "/**\n",
              " * @fileoverview Helpers for google.colab Python module.\n",
              " */\n",
              "(function(scope) {\n",
              "function span(text, styleAttributes = {}) {\n",
              "  const element = document.createElement('span');\n",
              "  element.textContent = text;\n",
              "  for (const key of Object.keys(styleAttributes)) {\n",
              "    element.style[key] = styleAttributes[key];\n",
              "  }\n",
              "  return element;\n",
              "}\n",
              "\n",
              "// Max number of bytes which will be uploaded at a time.\n",
              "const MAX_PAYLOAD_SIZE = 100 * 1024;\n",
              "\n",
              "function _uploadFiles(inputId, outputId) {\n",
              "  const steps = uploadFilesStep(inputId, outputId);\n",
              "  const outputElement = document.getElementById(outputId);\n",
              "  // Cache steps on the outputElement to make it available for the next call\n",
              "  // to uploadFilesContinue from Python.\n",
              "  outputElement.steps = steps;\n",
              "\n",
              "  return _uploadFilesContinue(outputId);\n",
              "}\n",
              "\n",
              "// This is roughly an async generator (not supported in the browser yet),\n",
              "// where there are multiple asynchronous steps and the Python side is going\n",
              "// to poll for completion of each step.\n",
              "// This uses a Promise to block the python side on completion of each step,\n",
              "// then passes the result of the previous step as the input to the next step.\n",
              "function _uploadFilesContinue(outputId) {\n",
              "  const outputElement = document.getElementById(outputId);\n",
              "  const steps = outputElement.steps;\n",
              "\n",
              "  const next = steps.next(outputElement.lastPromiseValue);\n",
              "  return Promise.resolve(next.value.promise).then((value) => {\n",
              "    // Cache the last promise value to make it available to the next\n",
              "    // step of the generator.\n",
              "    outputElement.lastPromiseValue = value;\n",
              "    return next.value.response;\n",
              "  });\n",
              "}\n",
              "\n",
              "/**\n",
              " * Generator function which is called between each async step of the upload\n",
              " * process.\n",
              " * @param {string} inputId Element ID of the input file picker element.\n",
              " * @param {string} outputId Element ID of the output display.\n",
              " * @return {!Iterable<!Object>} Iterable of next steps.\n",
              " */\n",
              "function* uploadFilesStep(inputId, outputId) {\n",
              "  const inputElement = document.getElementById(inputId);\n",
              "  inputElement.disabled = false;\n",
              "\n",
              "  const outputElement = document.getElementById(outputId);\n",
              "  outputElement.innerHTML = '';\n",
              "\n",
              "  const pickedPromise = new Promise((resolve) => {\n",
              "    inputElement.addEventListener('change', (e) => {\n",
              "      resolve(e.target.files);\n",
              "    });\n",
              "  });\n",
              "\n",
              "  const cancel = document.createElement('button');\n",
              "  inputElement.parentElement.appendChild(cancel);\n",
              "  cancel.textContent = 'Cancel upload';\n",
              "  const cancelPromise = new Promise((resolve) => {\n",
              "    cancel.onclick = () => {\n",
              "      resolve(null);\n",
              "    };\n",
              "  });\n",
              "\n",
              "  // Wait for the user to pick the files.\n",
              "  const files = yield {\n",
              "    promise: Promise.race([pickedPromise, cancelPromise]),\n",
              "    response: {\n",
              "      action: 'starting',\n",
              "    }\n",
              "  };\n",
              "\n",
              "  cancel.remove();\n",
              "\n",
              "  // Disable the input element since further picks are not allowed.\n",
              "  inputElement.disabled = true;\n",
              "\n",
              "  if (!files) {\n",
              "    return {\n",
              "      response: {\n",
              "        action: 'complete',\n",
              "      }\n",
              "    };\n",
              "  }\n",
              "\n",
              "  for (const file of files) {\n",
              "    const li = document.createElement('li');\n",
              "    li.append(span(file.name, {fontWeight: 'bold'}));\n",
              "    li.append(span(\n",
              "        `(${file.type || 'n/a'}) - ${file.size} bytes, ` +\n",
              "        `last modified: ${\n",
              "            file.lastModifiedDate ? file.lastModifiedDate.toLocaleDateString() :\n",
              "                                    'n/a'} - `));\n",
              "    const percent = span('0% done');\n",
              "    li.appendChild(percent);\n",
              "\n",
              "    outputElement.appendChild(li);\n",
              "\n",
              "    const fileDataPromise = new Promise((resolve) => {\n",
              "      const reader = new FileReader();\n",
              "      reader.onload = (e) => {\n",
              "        resolve(e.target.result);\n",
              "      };\n",
              "      reader.readAsArrayBuffer(file);\n",
              "    });\n",
              "    // Wait for the data to be ready.\n",
              "    let fileData = yield {\n",
              "      promise: fileDataPromise,\n",
              "      response: {\n",
              "        action: 'continue',\n",
              "      }\n",
              "    };\n",
              "\n",
              "    // Use a chunked sending to avoid message size limits. See b/62115660.\n",
              "    let position = 0;\n",
              "    do {\n",
              "      const length = Math.min(fileData.byteLength - position, MAX_PAYLOAD_SIZE);\n",
              "      const chunk = new Uint8Array(fileData, position, length);\n",
              "      position += length;\n",
              "\n",
              "      const base64 = btoa(String.fromCharCode.apply(null, chunk));\n",
              "      yield {\n",
              "        response: {\n",
              "          action: 'append',\n",
              "          file: file.name,\n",
              "          data: base64,\n",
              "        },\n",
              "      };\n",
              "\n",
              "      let percentDone = fileData.byteLength === 0 ?\n",
              "          100 :\n",
              "          Math.round((position / fileData.byteLength) * 100);\n",
              "      percent.textContent = `${percentDone}% done`;\n",
              "\n",
              "    } while (position < fileData.byteLength);\n",
              "  }\n",
              "\n",
              "  // All done.\n",
              "  yield {\n",
              "    response: {\n",
              "      action: 'complete',\n",
              "    }\n",
              "  };\n",
              "}\n",
              "\n",
              "scope.google = scope.google || {};\n",
              "scope.google.colab = scope.google.colab || {};\n",
              "scope.google.colab._files = {\n",
              "  _uploadFiles,\n",
              "  _uploadFilesContinue,\n",
              "};\n",
              "})(self);\n",
              "</script> "
            ]
          },
          "metadata": {}
        },
        {
          "output_type": "stream",
          "name": "stdout",
          "text": [
            "Saving IMG_20190930_070337.tif to IMG_20190930_070337.tif\n",
            "1/1 [==============================] - 0s 42ms/step\n",
            "IMG_20190930_070337.tif\n",
            "[[0. 0. 0. 0. 1.]]\n"
          ]
        }
      ]
    }
  ]
}